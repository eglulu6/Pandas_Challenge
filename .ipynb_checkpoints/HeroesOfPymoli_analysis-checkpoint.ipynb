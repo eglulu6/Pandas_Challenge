{
 "cells": [
  {
   "cell_type": "markdown",
   "metadata": {},
   "source": [
    "### Note\n",
    "* Instructions have been included for each segment. You do not have to follow them exactly, but they are included to help you think through the steps."
   ]
  },
  {
   "cell_type": "code",
   "execution_count": null,
   "metadata": {},
   "outputs": [],
   "source": [
    "# Dependencies and Setup\n",
    "import pandas as pd\n",
    "\n",
    "# File to Load (Remember to Change These)\n",
    "file_to_load = \"Resources/purchase_data.csv\"\n",
    "\n",
    "# Read Purchasing File and store into Pandas data frame\n",
    "purchase_data = pd.read_csv(file_to_load)"
   ]
  },
  {
   "cell_type": "markdown",
   "metadata": {},
   "source": [
    "## Player Count"
   ]
  },
  {
   "cell_type": "markdown",
   "metadata": {},
   "source": [
    "* Display the total number of players\n"
   ]
  },
  {
   "cell_type": "code",
   "execution_count": null,
   "metadata": {},
   "outputs": [],
   "source": [
    "#use length of unique players SN list to get total # players\n",
    "totalplayers = len(purchase_data['SN'].unique())\n",
    "\n",
    "#use print to Display the total number of players\n",
    "print(totalplayers)"
   ]
  },
  {
   "cell_type": "markdown",
   "metadata": {},
   "source": [
    "## Purchasing Analysis (Total)"
   ]
  },
  {
   "cell_type": "markdown",
   "metadata": {},
   "source": [
    "* Run basic calculations to obtain number of unique items, average price, etc.\n",
    "\n",
    "\n",
    "* Create a summary data frame to hold the results\n",
    "\n",
    "\n",
    "* Optional: give the displayed data cleaner formatting\n",
    "\n",
    "\n",
    "* Display the summary data frame\n"
   ]
  },
  {
   "cell_type": "code",
   "execution_count": null,
   "metadata": {
    "scrolled": true
   },
   "outputs": [],
   "source": [
    "#use length of unique item ID list to get total # items for sale\n",
    "itemsforsale = len(purchase_data['Item ID'].unique())\n",
    "\n",
    "#use sum of ALL prices divided by previous variable of unique items for sale\n",
    "avgprice = round(purchase_data['Price'].mean(),2)"
   ]
  },
  {
   "cell_type": "code",
   "execution_count": null,
   "metadata": {
    "scrolled": true
   },
   "outputs": [],
   "source": [
    "#Create a summary data frame to hold the results\n",
    "total_sumdf = pd.DataFrame([{'Items for Sale':itemsforsale, 'Average Price': avgprice}])"
   ]
  },
  {
   "cell_type": "code",
   "execution_count": null,
   "metadata": {
    "scrolled": true
   },
   "outputs": [],
   "source": [
    "#format the data frame to look better before printing\n",
    "total_sumdf['Average Price']=total_sumdf['Average Price'].map('${:.2f}'.format)"
   ]
  },
  {
   "cell_type": "code",
   "execution_count": null,
   "metadata": {
    "scrolled": true
   },
   "outputs": [],
   "source": [
    "#display the summary data frame\n",
    "total_sumdf"
   ]
  },
  {
   "cell_type": "markdown",
   "metadata": {},
   "source": [
    "## Gender Demographics"
   ]
  },
  {
   "cell_type": "markdown",
   "metadata": {},
   "source": [
    "* Percentage and Count of Male Players\n",
    "\n",
    "\n",
    "* Percentage and Count of Female Players\n",
    "\n",
    "\n",
    "* Percentage and Count of Other / Non-Disclosed\n",
    "\n",
    "\n"
   ]
  },
  {
   "cell_type": "code",
   "execution_count": null,
   "metadata": {},
   "outputs": [],
   "source": [
    "#Check formulas work by breaking them down first\n",
    "    #purchase_data.groupby(['Gender']).size()\n",
    "    #len(purchase_data)\n",
    "    #purchase_data.groupby(['Gender'])['SN'].nunique()"
   ]
  },
  {
   "cell_type": "code",
   "execution_count": null,
   "metadata": {},
   "outputs": [],
   "source": [
    "#now add the formulas together assign them as variables incase you need to use them later\n",
    "\n",
    "    #Percentage of Male Players, Female Players, and  Other / Non-Disclosed\n",
    "gend_pct =  round((purchase_data.groupby(['Gender']).size()/len(purchase_data))*100,1)\n",
    "\n",
    "    #Count of Male Players, Female Players, and  Other / Non-Disclosed\n",
    "gend_count = purchase_data.groupby(['Gender'])['SN'].nunique()"
   ]
  },
  {
   "cell_type": "code",
   "execution_count": null,
   "metadata": {},
   "outputs": [],
   "source": [
    "#create gender data sumry df\n",
    "gend_demodf = pd.DataFrame({'Percentage': gend_pct,'Purchase Count': gend_count})\n",
    "\n",
    "#format the DF prior to printing\n",
    "gend_demodf['Percentage']=gend_demodf['Percentage'].map('{:.1f}%'.format)\n",
    "\n",
    "#display the summary data frame\n",
    "gend_demodf"
   ]
  },
  {
   "cell_type": "markdown",
   "metadata": {},
   "source": [
    "\n",
    "## Purchasing Analysis (Gender)"
   ]
  },
  {
   "cell_type": "markdown",
   "metadata": {},
   "source": [
    "* Run basic calculations to obtain purchase count, avg. purchase price, avg. purchase total per person etc. by gender\n",
    "\n",
    "\n",
    "\n",
    "\n",
    "* Create a summary data frame to hold the results\n",
    "\n",
    "\n",
    "* Optional: give the displayed data cleaner formatting\n",
    "\n",
    "\n",
    "* Display the summary data frame"
   ]
  },
  {
   "cell_type": "code",
   "execution_count": null,
   "metadata": {},
   "outputs": [],
   "source": [
    "#Check formulas work by breaking them down first\n",
    "    #purchase_data.groupby(['Gender'])['Price'].sum()\n",
    "    #gend_purchcount\n",
    "    #round(purchase_data.groupby(['Gender'])['Price'].mean(),2)"
   ]
  },
  {
   "cell_type": "code",
   "execution_count": null,
   "metadata": {},
   "outputs": [],
   "source": [
    "#now add the formulas together assign them as variables incase you need to use them later\n",
    "    #we can use the gend_purchcount variable from earlier\n",
    "gend_avg_spent_pp = round(purchase_data.groupby(['Gender'])['Price'].sum()/gend_count,2)\n",
    "gend_avg_game = round(purchase_data.groupby(['Gender'])['Price'].mean(),2)"
   ]
  },
  {
   "cell_type": "code",
   "execution_count": null,
   "metadata": {},
   "outputs": [],
   "source": [
    "#create a new DF of our AVGs \n",
    "gend_purchdf = pd.DataFrame({'Avg Spent PP':gend_avg_spent_pp,'Avg Game Price':gend_avg_game,})"
   ]
  },
  {
   "cell_type": "code",
   "execution_count": null,
   "metadata": {},
   "outputs": [],
   "source": [
    "#merge the 2 DF to get one summary DF\n",
    "gend_joindf = pd.merge(gend_demodf,gend_purchdf, on='Gender')\n",
    "\n",
    "#format the joined DF prior to printing\n",
    "gend_joindf['Avg Spent PP']=gend_joindf['Avg Spent PP'].map('${:.2f}'.format)\n",
    "gend_joindf['Avg Game Price']=gend_joindf['Avg Game Price'].map('${:.2f}'.format)\n",
    "\n",
    "#Display the summary data frame\n",
    "gend_joindf"
   ]
  },
  {
   "cell_type": "markdown",
   "metadata": {},
   "source": [
    "## Age Demographics"
   ]
  },
  {
   "cell_type": "markdown",
   "metadata": {},
   "source": [
    "* Establish bins for ages\n",
    "\n",
    "\n",
    "* Categorize the existing players using the age bins. Hint: use pd.cut()\n",
    "\n",
    "\n",
    "* Calculate the numbers and percentages by age group\n",
    "\n",
    "\n",
    "* Create a summary data frame to hold the results\n",
    "\n",
    "\n",
    "* Optional: round the percentage column to two decimal points\n",
    "\n",
    "\n",
    "* Display Age Demographics Table\n"
   ]
  },
  {
   "cell_type": "code",
   "execution_count": null,
   "metadata": {},
   "outputs": [],
   "source": [
    "    #Establish bins for ages\n",
    "    #Categorize the existing players using the age bins\n",
    "#using the cut function to create bins and labels for age groups    \n",
    "purchase_data['Age Group']=pd.cut(purchase_data['Age'],[0,10,18,25,100], right=True,\n",
    "                                  labels=['Child','Minor','Young Adult','Adult'], include_lowest=True)"
   ]
  },
  {
   "cell_type": "code",
   "execution_count": null,
   "metadata": {},
   "outputs": [],
   "source": [
    "#add the formulas and assign them as variables incase you need to use them later\n",
    "    #round the percentage column to two decimal points\n",
    "age_group = purchase_data.groupby(['Age Group'])\n",
    "age_pct = round((purchase_data.groupby(['Age Group']).size()/len(purchase_data))*100)\n",
    "age_purchcount = purchase_data.groupby(['Age Group'])['SN'].nunique()"
   ]
  },
  {
   "cell_type": "code",
   "execution_count": null,
   "metadata": {},
   "outputs": [],
   "source": [
    "#Create a summary data frame to hold the results\n",
    "age_demodf = pd.DataFrame({'Percent by Group':age_pct, 'Number of Purchases':age_purchcount}).sort_values('Number of Purchases',ascending=False)\n",
    "\n",
    "#format the joined DF prior to printing\n",
    "age_demodf['Percent by Group'] = age_demodf['Percent by Group'].map('{:.1f}%'.format)\n",
    "\n",
    "#Display Age Demographics Table\n",
    "age_demodf"
   ]
  },
  {
   "cell_type": "markdown",
   "metadata": {},
   "source": [
    "## Purchasing Analysis (Age)"
   ]
  },
  {
   "cell_type": "markdown",
   "metadata": {},
   "source": [
    "* Bin the purchase_data data frame by age\n",
    "\n",
    "\n",
    "* Run basic calculations to obtain purchase count, avg. purchase price, avg. purchase total per person etc. in the table below\n",
    "\n",
    "\n",
    "* Create a summary data frame to hold the results\n",
    "\n",
    "\n",
    "* Optional: give the displayed data cleaner formatting\n",
    "\n",
    "\n",
    "* Display the summary data frame"
   ]
  },
  {
   "cell_type": "code",
   "execution_count": null,
   "metadata": {},
   "outputs": [],
   "source": [
    "# purchase_data was Binned by age in previous step by adding column Age Group\n",
    "\n",
    "# add the formulas and assign them as variables incase you need to use them later\n",
    "    #obtain avg. purchase price, avg. purchase total per person\n",
    "    #purchase count was captured in age_demodf and will be reused\n",
    "age_avg_spent_pp = round(purchase_data.groupby(['Age Group'],sort=True)['Price'].sum()/age_purchcount,2)\n",
    "age_avg_price = round(purchase_data.groupby(['Age Group'],sort=True)['Price'].mean(),2)\n",
    "\n",
    "#create a new DF of our AVGs \n",
    "age_purchdf = pd.DataFrame({'Avg Spent PP':age_avg_spent_pp,'Avg Game Price':age_avg_price})"
   ]
  },
  {
   "cell_type": "code",
   "execution_count": null,
   "metadata": {},
   "outputs": [],
   "source": [
    "#merge the 2 DF to get one summary DF\n",
    "age_joindf = pd.merge(age_demodf,age_purchdf, on='Age Group')"
   ]
  },
  {
   "cell_type": "code",
   "execution_count": null,
   "metadata": {},
   "outputs": [],
   "source": [
    "#format the joined DF prior to printing\n",
    "age_joindf['Avg Spent PP']=age_joindf['Avg Spent PP'].map('${:.2f}'.format)\n",
    "age_joindf['Avg Game Price']=age_joindf['Avg Game Price'].map('${:.2f}'.format)\n",
    "\n",
    "#Display the summary data frame\n",
    "age_joindf"
   ]
  },
  {
   "cell_type": "markdown",
   "metadata": {},
   "source": [
    "## Top Spenders"
   ]
  },
  {
   "cell_type": "markdown",
   "metadata": {},
   "source": [
    "* Run basic calculations to obtain the results in the table below\n",
    "\n",
    "\n",
    "* Create a summary data frame to hold the results\n",
    "\n",
    "\n",
    "* Sort the total purchase value column in descending order\n",
    "\n",
    "\n",
    "* Optional: give the displayed data cleaner formatting\n",
    "\n",
    "\n",
    "* Display a preview of the summary data frame"
   ]
  },
  {
   "cell_type": "markdown",
   "metadata": {},
   "source": [
    "## Most Popular Items"
   ]
  },
  {
   "cell_type": "markdown",
   "metadata": {},
   "source": [
    "* Retrieve the Item ID, Item Name, and Item Price columns\n",
    "\n",
    "\n",
    "* Group by Item ID and Item Name. Perform calculations to obtain purchase count, average item price, and total purchase value\n",
    "\n",
    "\n",
    "* Create a summary data frame to hold the results\n",
    "\n",
    "\n",
    "* Sort the purchase count column in descending order\n",
    "\n",
    "\n",
    "* Optional: give the displayed data cleaner formatting\n",
    "\n",
    "\n",
    "* Display a preview of the summary data frame\n",
    "\n"
   ]
  },
  {
   "cell_type": "code",
   "execution_count": null,
   "metadata": {},
   "outputs": [],
   "source": [
    "#create variaables for DF key:values of:\n",
    "    #Group by Item ID > Item Name > purchase count\n",
    "pop_purch_count = purchase_data.groupby(['Item ID', 'Item Name'])['Price'].count()\n",
    "\n",
    "    #Group by Item ID > Item Name > average item price\n",
    "pop_avg_price = round(purchase_data.groupby(['Item ID', 'Item Name'])['Price'].mean(),2)\n",
    "\n",
    "    #Group by Item ID > Item Name > \n",
    "pop_tot_purch = purchase_data.groupby(['Item ID', 'Item Name'])['Price'].sum()"
   ]
  },
  {
   "cell_type": "code",
   "execution_count": null,
   "metadata": {},
   "outputs": [],
   "source": [
    "#Create a summary data frame to hold the previous key:values\n",
    "#Sort the purchase count column in descending order\n",
    "pop_sumdf = pd.DataFrame({'Purchase Count':pop_purch_count,\n",
    "                         'Avg Price':pop_avg_price,\n",
    "                         'Total Puchases':pop_tot_purch}).sort_values('Purchase Count', ascending=False)"
   ]
  },
  {
   "cell_type": "code",
   "execution_count": null,
   "metadata": {},
   "outputs": [],
   "source": [
    "#format the joined DF and display a preview of the summary data frame\n",
    "pop_sumdf['Avg Price'] = pop_sumdf['Avg Price'].map('${:.2f}'.format)\n",
    "pop_sumdf['Total Puchases'] = pop_sumdf['Total Puchases'].map('${:.2f}'.format)\n",
    "\n",
    "#Display a preview of the data frame\n",
    "pop_sumdf.head(10)"
   ]
  },
  {
   "cell_type": "markdown",
   "metadata": {},
   "source": [
    "## Most Profitable Items"
   ]
  },
  {
   "cell_type": "markdown",
   "metadata": {},
   "source": [
    "* Sort the above table by total purchase value in descending order\n",
    "\n",
    "\n",
    "* Optional: give the displayed data cleaner formatting\n",
    "\n",
    "\n",
    "* Display a preview of the data frame\n",
    "\n"
   ]
  },
  {
   "cell_type": "code",
   "execution_count": null,
   "metadata": {
    "scrolled": true
   },
   "outputs": [],
   "source": [
    "#Sort the above table by total purchase value in descending order\n",
    "    #formatting completed in prior step\n",
    "pop_sumdf['Total Puchases'].sort_values(ascending=False)\n",
    "\n",
    "#Display a preview of the data frame\n",
    "pop_sumdf.head(10)"
   ]
  },
  {
   "cell_type": "markdown",
   "metadata": {},
   "source": [
    "## Top Spenders"
   ]
  },
  {
   "cell_type": "markdown",
   "metadata": {},
   "source": [
    "* Identify the the top 5 spenders in the game by total purchase value, then list (in a table):\n",
    "  * SN\n",
    "  * Purchase Count\n",
    "  * Average Purchase Price\n",
    "  * Total Purchase Value"
   ]
  },
  {
   "cell_type": "code",
   "execution_count": null,
   "metadata": {},
   "outputs": [],
   "source": [
    "    #Group to get the purch count per gend, age group, and item\n",
    "top_purch_count = purchase_data.groupby('SN')['Item Name'].count().sort_values(ascending=False)\n",
    "    #Group to get the total amount spent per gend, age group, and item\n",
    "top_avg = round(purchase_data.groupby('SN')['Price'].mean(),2)\n",
    "    #Group to get the total amount spent per gend, age group, and item\n",
    "top_val = round(purchase_data.groupby('SN')['Price'].sum(),2)\n",
    "\n",
    "top_df=pd.DataFrame({'Total Purchases':top_purch_count,'Average Purchase':top_avg,'Total Value':top_val}).sort_values('Total Purchases',ascending=False).nlargest(5,['Total Value','Total Purchases']).dropna(axis='rows')\n",
    "top_df"
   ]
  },
  {
   "cell_type": "code",
   "execution_count": null,
   "metadata": {},
   "outputs": [],
   "source": [
    "#Personal analysis and comparisons\n",
    "    #Group to get the purch count per gend, age group, and item\n",
    "per_purch_count = purchase_data.groupby(['Gender','Age Group','Item Name'])['Item Name'].count().sort_values(ascending=False)\n",
    "\n",
    "    #Group to get the total amount spent per gend, age group, and item\n",
    "per_val = round(purchase_data.groupby(['Gender','Age Group','Item Name'])['Price'].sum(),2)\n",
    "\n",
    "per_df=pd.DataFrame({'Total Purchases':per_purch_count,'Total Value':per_val}).sort_values('Total Purchases',ascending=False).nlargest(3,['Total Value','Total Purchases']).dropna(axis='rows')\n",
    "per_df"
   ]
  },
  {
   "cell_type": "code",
   "execution_count": null,
   "metadata": {},
   "outputs": [],
   "source": []
  }
 ],
 "metadata": {
  "anaconda-cloud": {},
  "kernel_info": {
   "name": "python3"
  },
  "kernelspec": {
   "display_name": "Python 3",
   "language": "python",
   "name": "python3"
  },
  "language_info": {
   "codemirror_mode": {
    "name": "ipython",
    "version": 3
   },
   "file_extension": ".py",
   "mimetype": "text/x-python",
   "name": "python",
   "nbconvert_exporter": "python",
   "pygments_lexer": "ipython3",
   "version": "3.8.3"
  },
  "latex_envs": {
   "LaTeX_envs_menu_present": true,
   "autoclose": false,
   "autocomplete": true,
   "bibliofile": "biblio.bib",
   "cite_by": "apalike",
   "current_citInitial": 1,
   "eqLabelWithNumbers": true,
   "eqNumInitial": 1,
   "hotkeys": {
    "equation": "Ctrl-E",
    "itemize": "Ctrl-I"
   },
   "labels_anchors": false,
   "latex_user_defs": false,
   "report_style_numbering": false,
   "user_envs_cfg": false
  },
  "nteract": {
   "version": "0.2.0"
  }
 },
 "nbformat": 4,
 "nbformat_minor": 4
}
