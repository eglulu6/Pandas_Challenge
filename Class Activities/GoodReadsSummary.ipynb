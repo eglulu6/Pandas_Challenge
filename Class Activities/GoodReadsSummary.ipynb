{
 "cells": [
  {
   "cell_type": "code",
   "execution_count": 1,
   "metadata": {},
   "outputs": [],
   "source": [
    "# Import Dependencies\n",
    "import pandas as pd\n",
    "\n",
    "# File to Load\n",
    "df = pd.read_csv('Resources/books_clean.csv')\n",
    "df.head()\n",
    "\n",
    "#books.csv\n",
    "# Read the modified GoodReads csv and store into Pandas DataFrame\n",
    "\n",
    "# Calculate the number of unique authors in the DataFrame\n",
    "unqauth = len(df['Authors'].unique())\n",
    "unqauth\n",
    "\n",
    "# Calculate the earliest/latest year a book was published\n",
    "yrmin = int(df['Publication Year'].min())\n",
    "yrmin\n",
    "\n",
    "yrmax = int(df['Publication Year'].max())\n",
    "yrmax\n",
    "\n",
    "# Calculate the total reviews for the entire dataset\n",
    "allreviews = df[['One Star Reviews', 'Two Star Reviews', \n",
    "                 'Three Star Reviews', 'Four Star Reviews', 'Five Star Reviews']].sum()\n",
    "allreviews = sum(allreviews)\n",
    "allreviews\n",
    "# Hint: use the pandas' sum() method to get the sum for each row\n",
    "\n",
    "\n",
    "# Place all of the data found into a summary DataFrame\n",
    "smrydf = pd.DataFrame([{'Unique Authors': unqauth, 'Min Yr Published': yrmin, \n",
    "                        'Max Yr Published': yrmax, 'Total Reviews': allreviews}])\n",
    "\n",
    "smrydf.head()"
   ]
  },
  {
   "cell_type": "code",
   "execution_count": null,
   "metadata": {},
   "outputs": [],
   "source": []
  }
 ],
 "metadata": {
  "kernelspec": {
   "display_name": "Python 3",
   "language": "python",
   "name": "python3"
  },
  "language_info": {
   "codemirror_mode": {
    "name": "ipython",
    "version": 3
   },
   "file_extension": ".py",
   "mimetype": "text/x-python",
   "name": "python",
   "nbconvert_exporter": "python",
   "pygments_lexer": "ipython3",
   "version": "3.8.3"
  }
 },
 "nbformat": 4,
 "nbformat_minor": 4
}
