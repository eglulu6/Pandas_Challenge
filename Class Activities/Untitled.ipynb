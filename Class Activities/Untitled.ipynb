{
 "cells": [
  {
   "cell_type": "code",
   "execution_count": 2,
   "metadata": {},
   "outputs": [
    {
     "name": "stdout",
     "output_type": "stream",
     "text": [
      "       Frame  Price  Sales\n",
      "0     Ornate   15.0    100\n",
      "1  Classical   12.5    200\n",
      "2     Modern   10.0    150\n"
     ]
    }
   ],
   "source": [
    "import pandas as pd\n",
    "\n",
    "fram1 = pd.DataFrame([{'Frame': 'Ornate', 'Price':15.0 , 'Sales': 100}, \n",
    "                     {'Frame': 'Classical', 'Price':12.5 , 'Sales': 200}, \n",
    "                      {'Frame': 'Modern', 'Price':10.0 , 'Sales': 150}])\n",
    "print(fram1)"
   ]
  },
  {
   "cell_type": "code",
   "execution_count": 5,
   "metadata": {},
   "outputs": [
    {
     "name": "stdout",
     "output_type": "stream",
     "text": [
      "           Paintings  Price  Popularity\n",
      "0  Mona Lisa - wanaB     25  Top Seller\n",
      "1   Van Gogh - wanaB     20     Popular\n",
      "2    Starving Artist     10     Average\n",
      "3     Todler Drawing      1    Only Mom\n"
     ]
    }
   ],
   "source": [
    "fram2 = pd.DataFrame({'Paintings':['Mona Lisa - wanaB', 'Van Gogh - wanaB', 'Starving Artist', 'Todler Drawing'],\n",
    "                     'Price':[25, 20, 10, 1], 'Popularity': ['Top Seller', 'Popular', 'Average', 'Only Mom']})\n",
    "print(fram2)"
   ]
  },
  {
   "cell_type": "code",
   "execution_count": null,
   "metadata": {},
   "outputs": [],
   "source": []
  },
  {
   "cell_type": "code",
   "execution_count": null,
   "metadata": {},
   "outputs": [],
   "source": []
  }
 ],
 "metadata": {
  "kernelspec": {
   "display_name": "Python 3",
   "language": "python",
   "name": "python3"
  },
  "language_info": {
   "codemirror_mode": {
    "name": "ipython",
    "version": 3
   },
   "file_extension": ".py",
   "mimetype": "text/x-python",
   "name": "python",
   "nbconvert_exporter": "python",
   "pygments_lexer": "ipython3",
   "version": "3.8.3"
  }
 },
 "nbformat": 4,
 "nbformat_minor": 4
}
