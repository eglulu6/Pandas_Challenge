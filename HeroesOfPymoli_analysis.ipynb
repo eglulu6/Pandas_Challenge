{
 "cells": [
  {
   "cell_type": "markdown",
   "metadata": {},
   "source": [
    "### Note\n",
    "* Instructions have been included for each segment. You do not have to follow them exactly, but they are included to help you think through the steps."
   ]
  },
  {
   "cell_type": "code",
   "execution_count": 1,
   "metadata": {},
   "outputs": [],
   "source": [
    "# Dependencies and Setup\n",
    "import pandas as pd\n",
    "\n",
    "# File to Load (Remember to Change These)\n",
    "file_to_load = \"Resources/purchase_data.csv\"\n",
    "\n",
    "# Read Purchasing File and store into Pandas data frame\n",
    "purchase_data = pd.read_csv(file_to_load)"
   ]
  },
  {
   "cell_type": "markdown",
   "metadata": {},
   "source": [
    "## Player Count"
   ]
  },
  {
   "cell_type": "markdown",
   "metadata": {},
   "source": [
    "* Display the total number of players\n"
   ]
  },
  {
   "cell_type": "code",
   "execution_count": 2,
   "metadata": {},
   "outputs": [
    {
     "name": "stdout",
     "output_type": "stream",
     "text": [
      "576\n"
     ]
    }
   ],
   "source": [
    "#use length of unique players SN list to get total # players\n",
    "totalplayers = len(purchase_data['SN'].unique())\n",
    "\n",
    "#use print to Display the total number of players\n",
    "print(totalplayers)"
   ]
  },
  {
   "cell_type": "markdown",
   "metadata": {},
   "source": [
    "## Purchasing Analysis (Total)"
   ]
  },
  {
   "cell_type": "markdown",
   "metadata": {},
   "source": [
    "* Run basic calculations to obtain number of unique items, average price, etc.\n",
    "\n",
    "\n",
    "* Create a summary data frame to hold the results\n",
    "\n",
    "\n",
    "* Optional: give the displayed data cleaner formatting\n",
    "\n",
    "\n",
    "* Display the summary data frame\n"
   ]
  },
  {
   "cell_type": "code",
   "execution_count": 3,
   "metadata": {
    "scrolled": true
   },
   "outputs": [],
   "source": [
    "#use length of unique item ID list to get total # items for sale\n",
    "itemsforsale = len(purchase_data['Item ID'].unique())\n",
    "\n",
    "#use sum of ALL prices divided by previous variable of unique items for sale\n",
    "avgprice = round(purchase_data['Price'].mean(),2)"
   ]
  },
  {
   "cell_type": "code",
   "execution_count": 4,
   "metadata": {
    "scrolled": true
   },
   "outputs": [],
   "source": [
    "#Create a summary data frame to hold the results\n",
    "total_sumdf = pd.DataFrame([{'Items for Sale':itemsforsale, 'Average Price': avgprice}])"
   ]
  },
  {
   "cell_type": "code",
   "execution_count": 5,
   "metadata": {
    "scrolled": true
   },
   "outputs": [],
   "source": [
    "#format the data frame to look better before printing\n",
    "total_sumdf['Average Price']=total_sumdf['Average Price'].map('${:.2f}'.format)"
   ]
  },
  {
   "cell_type": "code",
   "execution_count": 6,
   "metadata": {
    "scrolled": true
   },
   "outputs": [
    {
     "data": {
      "text/html": [
       "<div>\n",
       "<style scoped>\n",
       "    .dataframe tbody tr th:only-of-type {\n",
       "        vertical-align: middle;\n",
       "    }\n",
       "\n",
       "    .dataframe tbody tr th {\n",
       "        vertical-align: top;\n",
       "    }\n",
       "\n",
       "    .dataframe thead th {\n",
       "        text-align: right;\n",
       "    }\n",
       "</style>\n",
       "<table border=\"1\" class=\"dataframe\">\n",
       "  <thead>\n",
       "    <tr style=\"text-align: right;\">\n",
       "      <th></th>\n",
       "      <th>Items for Sale</th>\n",
       "      <th>Average Price</th>\n",
       "    </tr>\n",
       "  </thead>\n",
       "  <tbody>\n",
       "    <tr>\n",
       "      <th>0</th>\n",
       "      <td>179</td>\n",
       "      <td>$3.05</td>\n",
       "    </tr>\n",
       "  </tbody>\n",
       "</table>\n",
       "</div>"
      ],
      "text/plain": [
       "   Items for Sale Average Price\n",
       "0             179         $3.05"
      ]
     },
     "execution_count": 6,
     "metadata": {},
     "output_type": "execute_result"
    }
   ],
   "source": [
    "#display the summary data frame\n",
    "total_sumdf"
   ]
  },
  {
   "cell_type": "markdown",
   "metadata": {},
   "source": [
    "## Gender Demographics"
   ]
  },
  {
   "cell_type": "markdown",
   "metadata": {},
   "source": [
    "* Percentage and Count of Male Players\n",
    "\n",
    "\n",
    "* Percentage and Count of Female Players\n",
    "\n",
    "\n",
    "* Percentage and Count of Other / Non-Disclosed\n",
    "\n",
    "\n"
   ]
  },
  {
   "cell_type": "code",
   "execution_count": 7,
   "metadata": {},
   "outputs": [],
   "source": [
    "#Check formulas work by breaking them down first\n",
    "    #purchase_data.groupby(['Gender']).size()\n",
    "    #len(purchase_data)\n",
    "    #purchase_data.groupby(['Gender'])['SN'].nunique()"
   ]
  },
  {
   "cell_type": "code",
   "execution_count": 8,
   "metadata": {},
   "outputs": [],
   "source": [
    "#now add the formulas together assign them as variables incase you need to use them later\n",
    "\n",
    "    #Percentage of Male Players, Female Players, and  Other / Non-Disclosed\n",
    "gend_pct =  round((purchase_data.groupby(['Gender']).size()/len(purchase_data))*100,1)\n",
    "\n",
    "    #Count of Male Players, Female Players, and  Other / Non-Disclosed\n",
    "gend_count = purchase_data.groupby(['Gender'])['SN'].nunique()"
   ]
  },
  {
   "cell_type": "code",
   "execution_count": 9,
   "metadata": {},
   "outputs": [
    {
     "data": {
      "text/html": [
       "<div>\n",
       "<style scoped>\n",
       "    .dataframe tbody tr th:only-of-type {\n",
       "        vertical-align: middle;\n",
       "    }\n",
       "\n",
       "    .dataframe tbody tr th {\n",
       "        vertical-align: top;\n",
       "    }\n",
       "\n",
       "    .dataframe thead th {\n",
       "        text-align: right;\n",
       "    }\n",
       "</style>\n",
       "<table border=\"1\" class=\"dataframe\">\n",
       "  <thead>\n",
       "    <tr style=\"text-align: right;\">\n",
       "      <th></th>\n",
       "      <th>Percentage</th>\n",
       "      <th>Purchase Count</th>\n",
       "    </tr>\n",
       "    <tr>\n",
       "      <th>Gender</th>\n",
       "      <th></th>\n",
       "      <th></th>\n",
       "    </tr>\n",
       "  </thead>\n",
       "  <tbody>\n",
       "    <tr>\n",
       "      <th>Female</th>\n",
       "      <td>14.5%</td>\n",
       "      <td>81</td>\n",
       "    </tr>\n",
       "    <tr>\n",
       "      <th>Male</th>\n",
       "      <td>83.6%</td>\n",
       "      <td>484</td>\n",
       "    </tr>\n",
       "    <tr>\n",
       "      <th>Other / Non-Disclosed</th>\n",
       "      <td>1.9%</td>\n",
       "      <td>11</td>\n",
       "    </tr>\n",
       "  </tbody>\n",
       "</table>\n",
       "</div>"
      ],
      "text/plain": [
       "                      Percentage  Purchase Count\n",
       "Gender                                          \n",
       "Female                     14.5%              81\n",
       "Male                       83.6%             484\n",
       "Other / Non-Disclosed       1.9%              11"
      ]
     },
     "execution_count": 9,
     "metadata": {},
     "output_type": "execute_result"
    }
   ],
   "source": [
    "#create gender data sumry df\n",
    "gend_demodf = pd.DataFrame({'Percentage': gend_pct,'Purchase Count': gend_count})\n",
    "\n",
    "#format the DF prior to printing\n",
    "gend_demodf['Percentage']=gend_demodf['Percentage'].map('{:.1f}%'.format)\n",
    "\n",
    "#display the summary data frame\n",
    "gend_demodf"
   ]
  },
  {
   "cell_type": "markdown",
   "metadata": {},
   "source": [
    "\n",
    "## Purchasing Analysis (Gender)"
   ]
  },
  {
   "cell_type": "markdown",
   "metadata": {},
   "source": [
    "* Run basic calculations to obtain purchase count, avg. purchase price, avg. purchase total per person etc. by gender\n",
    "\n",
    "\n",
    "\n",
    "\n",
    "* Create a summary data frame to hold the results\n",
    "\n",
    "\n",
    "* Optional: give the displayed data cleaner formatting\n",
    "\n",
    "\n",
    "* Display the summary data frame"
   ]
  },
  {
   "cell_type": "code",
   "execution_count": 10,
   "metadata": {},
   "outputs": [],
   "source": [
    "#Check formulas work by breaking them down first\n",
    "    #purchase_data.groupby(['Gender'])['Price'].sum()\n",
    "    #gend_purchcount\n",
    "    #round(purchase_data.groupby(['Gender'])['Price'].mean(),2)"
   ]
  },
  {
   "cell_type": "code",
   "execution_count": 11,
   "metadata": {},
   "outputs": [],
   "source": [
    "#now add the formulas together assign them as variables incase you need to use them later\n",
    "    #we can use the gend_purchcount variable from earlier\n",
    "gend_avg_spent_pp = round(purchase_data.groupby(['Gender'])['Price'].sum()/gend_count,2)\n",
    "gend_avg_game = round(purchase_data.groupby(['Gender'])['Price'].mean(),2)"
   ]
  },
  {
   "cell_type": "code",
   "execution_count": 12,
   "metadata": {},
   "outputs": [],
   "source": [
    "#create a new DF of our AVGs \n",
    "gend_purchdf = pd.DataFrame({'Avg Spent PP':gend_avg_spent_pp,'Avg Game Price':gend_avg_game,})"
   ]
  },
  {
   "cell_type": "code",
   "execution_count": 13,
   "metadata": {},
   "outputs": [
    {
     "data": {
      "text/html": [
       "<div>\n",
       "<style scoped>\n",
       "    .dataframe tbody tr th:only-of-type {\n",
       "        vertical-align: middle;\n",
       "    }\n",
       "\n",
       "    .dataframe tbody tr th {\n",
       "        vertical-align: top;\n",
       "    }\n",
       "\n",
       "    .dataframe thead th {\n",
       "        text-align: right;\n",
       "    }\n",
       "</style>\n",
       "<table border=\"1\" class=\"dataframe\">\n",
       "  <thead>\n",
       "    <tr style=\"text-align: right;\">\n",
       "      <th></th>\n",
       "      <th>Percentage</th>\n",
       "      <th>Purchase Count</th>\n",
       "      <th>Avg Spent PP</th>\n",
       "      <th>Avg Game Price</th>\n",
       "    </tr>\n",
       "    <tr>\n",
       "      <th>Gender</th>\n",
       "      <th></th>\n",
       "      <th></th>\n",
       "      <th></th>\n",
       "      <th></th>\n",
       "    </tr>\n",
       "  </thead>\n",
       "  <tbody>\n",
       "    <tr>\n",
       "      <th>Female</th>\n",
       "      <td>14.5%</td>\n",
       "      <td>81</td>\n",
       "      <td>$4.47</td>\n",
       "      <td>$3.20</td>\n",
       "    </tr>\n",
       "    <tr>\n",
       "      <th>Male</th>\n",
       "      <td>83.6%</td>\n",
       "      <td>484</td>\n",
       "      <td>$4.07</td>\n",
       "      <td>$3.02</td>\n",
       "    </tr>\n",
       "    <tr>\n",
       "      <th>Other / Non-Disclosed</th>\n",
       "      <td>1.9%</td>\n",
       "      <td>11</td>\n",
       "      <td>$4.56</td>\n",
       "      <td>$3.35</td>\n",
       "    </tr>\n",
       "  </tbody>\n",
       "</table>\n",
       "</div>"
      ],
      "text/plain": [
       "                      Percentage  Purchase Count Avg Spent PP Avg Game Price\n",
       "Gender                                                                      \n",
       "Female                     14.5%              81        $4.47          $3.20\n",
       "Male                       83.6%             484        $4.07          $3.02\n",
       "Other / Non-Disclosed       1.9%              11        $4.56          $3.35"
      ]
     },
     "execution_count": 13,
     "metadata": {},
     "output_type": "execute_result"
    }
   ],
   "source": [
    "#merge the 2 DF to get one summary DF\n",
    "gend_joindf = pd.merge(gend_demodf,gend_purchdf, on='Gender')\n",
    "\n",
    "#format the joined DF prior to printing\n",
    "gend_joindf['Avg Spent PP']=gend_joindf['Avg Spent PP'].map('${:.2f}'.format)\n",
    "gend_joindf['Avg Game Price']=gend_joindf['Avg Game Price'].map('${:.2f}'.format)\n",
    "\n",
    "#Display the summary data frame\n",
    "gend_joindf"
   ]
  },
  {
   "cell_type": "markdown",
   "metadata": {},
   "source": [
    "## Age Demographics"
   ]
  },
  {
   "cell_type": "markdown",
   "metadata": {},
   "source": [
    "* Establish bins for ages\n",
    "\n",
    "\n",
    "* Categorize the existing players using the age bins. Hint: use pd.cut()\n",
    "\n",
    "\n",
    "* Calculate the numbers and percentages by age group\n",
    "\n",
    "\n",
    "* Create a summary data frame to hold the results\n",
    "\n",
    "\n",
    "* Optional: round the percentage column to two decimal points\n",
    "\n",
    "\n",
    "* Display Age Demographics Table\n"
   ]
  },
  {
   "cell_type": "code",
   "execution_count": 14,
   "metadata": {},
   "outputs": [],
   "source": [
    "    #Establish bins for ages\n",
    "    #Categorize the existing players using the age bins\n",
    "#using the cut function to create bins and labels for age groups    \n",
    "purchase_data['Age Group']=pd.cut(purchase_data['Age'],[0,10,18,25,100], right=True,\n",
    "                                  labels=['Child','Minor','Young Adult','Adult'], include_lowest=True)"
   ]
  },
  {
   "cell_type": "code",
   "execution_count": 15,
   "metadata": {},
   "outputs": [],
   "source": [
    "#add the formulas and assign them as variables incase you need to use them later\n",
    "    #round the percentage column to two decimal points\n",
    "age_group = purchase_data.groupby(['Age Group'])\n",
    "age_pct = round((purchase_data.groupby(['Age Group']).size()/len(purchase_data))*100)\n",
    "age_purchcount = purchase_data.groupby(['Age Group'])['SN'].nunique()"
   ]
  },
  {
   "cell_type": "code",
   "execution_count": 16,
   "metadata": {},
   "outputs": [
    {
     "data": {
      "text/html": [
       "<div>\n",
       "<style scoped>\n",
       "    .dataframe tbody tr th:only-of-type {\n",
       "        vertical-align: middle;\n",
       "    }\n",
       "\n",
       "    .dataframe tbody tr th {\n",
       "        vertical-align: top;\n",
       "    }\n",
       "\n",
       "    .dataframe thead th {\n",
       "        text-align: right;\n",
       "    }\n",
       "</style>\n",
       "<table border=\"1\" class=\"dataframe\">\n",
       "  <thead>\n",
       "    <tr style=\"text-align: right;\">\n",
       "      <th></th>\n",
       "      <th>Percent by Group</th>\n",
       "      <th>Number of Purchases</th>\n",
       "    </tr>\n",
       "    <tr>\n",
       "      <th>Age Group</th>\n",
       "      <th></th>\n",
       "      <th></th>\n",
       "    </tr>\n",
       "  </thead>\n",
       "  <tbody>\n",
       "    <tr>\n",
       "      <th>Young Adult</th>\n",
       "      <td>57.0%</td>\n",
       "      <td>318</td>\n",
       "    </tr>\n",
       "    <tr>\n",
       "      <th>Adult</th>\n",
       "      <td>22.0%</td>\n",
       "      <td>129</td>\n",
       "    </tr>\n",
       "    <tr>\n",
       "      <th>Minor</th>\n",
       "      <td>17.0%</td>\n",
       "      <td>105</td>\n",
       "    </tr>\n",
       "    <tr>\n",
       "      <th>Child</th>\n",
       "      <td>4.0%</td>\n",
       "      <td>24</td>\n",
       "    </tr>\n",
       "  </tbody>\n",
       "</table>\n",
       "</div>"
      ],
      "text/plain": [
       "            Percent by Group  Number of Purchases\n",
       "Age Group                                        \n",
       "Young Adult            57.0%                  318\n",
       "Adult                  22.0%                  129\n",
       "Minor                  17.0%                  105\n",
       "Child                   4.0%                   24"
      ]
     },
     "execution_count": 16,
     "metadata": {},
     "output_type": "execute_result"
    }
   ],
   "source": [
    "#Create a summary data frame to hold the results\n",
    "age_demodf = pd.DataFrame({'Percent by Group':age_pct, 'Number of Purchases':age_purchcount}).sort_values('Number of Purchases',ascending=False)\n",
    "\n",
    "#format the joined DF prior to printing\n",
    "age_demodf['Percent by Group'] = age_demodf['Percent by Group'].map('{:.1f}%'.format)\n",
    "\n",
    "#Display Age Demographics Table\n",
    "age_demodf"
   ]
  },
  {
   "cell_type": "markdown",
   "metadata": {},
   "source": [
    "## Purchasing Analysis (Age)"
   ]
  },
  {
   "cell_type": "markdown",
   "metadata": {},
   "source": [
    "* Bin the purchase_data data frame by age\n",
    "\n",
    "\n",
    "* Run basic calculations to obtain purchase count, avg. purchase price, avg. purchase total per person etc. in the table below\n",
    "\n",
    "\n",
    "* Create a summary data frame to hold the results\n",
    "\n",
    "\n",
    "* Optional: give the displayed data cleaner formatting\n",
    "\n",
    "\n",
    "* Display the summary data frame"
   ]
  },
  {
   "cell_type": "code",
   "execution_count": 17,
   "metadata": {},
   "outputs": [],
   "source": [
    "# purchase_data was Binned by age in previous step by adding column Age Group\n",
    "\n",
    "# add the formulas and assign them as variables incase you need to use them later\n",
    "    #obtain avg. purchase price, avg. purchase total per person\n",
    "    #purchase count was captured in age_demodf and will be reused\n",
    "age_avg_spent_pp = round(purchase_data.groupby(['Age Group'],sort=True)['Price'].sum()/age_purchcount,2)\n",
    "age_avg_price = round(purchase_data.groupby(['Age Group'],sort=True)['Price'].mean(),2)\n",
    "\n",
    "#create a new DF of our AVGs \n",
    "age_purchdf = pd.DataFrame({'Avg Spent PP':age_avg_spent_pp,'Avg Game Price':age_avg_price})"
   ]
  },
  {
   "cell_type": "code",
   "execution_count": 18,
   "metadata": {},
   "outputs": [],
   "source": [
    "#merge the 2 DF to get one summary DF\n",
    "age_joindf = pd.merge(age_demodf,age_purchdf, on='Age Group')"
   ]
  },
  {
   "cell_type": "code",
   "execution_count": 19,
   "metadata": {},
   "outputs": [
    {
     "data": {
      "text/html": [
       "<div>\n",
       "<style scoped>\n",
       "    .dataframe tbody tr th:only-of-type {\n",
       "        vertical-align: middle;\n",
       "    }\n",
       "\n",
       "    .dataframe tbody tr th {\n",
       "        vertical-align: top;\n",
       "    }\n",
       "\n",
       "    .dataframe thead th {\n",
       "        text-align: right;\n",
       "    }\n",
       "</style>\n",
       "<table border=\"1\" class=\"dataframe\">\n",
       "  <thead>\n",
       "    <tr style=\"text-align: right;\">\n",
       "      <th></th>\n",
       "      <th>Percent by Group</th>\n",
       "      <th>Number of Purchases</th>\n",
       "      <th>Avg Spent PP</th>\n",
       "      <th>Avg Game Price</th>\n",
       "    </tr>\n",
       "    <tr>\n",
       "      <th>Age Group</th>\n",
       "      <th></th>\n",
       "      <th></th>\n",
       "      <th></th>\n",
       "      <th></th>\n",
       "    </tr>\n",
       "  </thead>\n",
       "  <tbody>\n",
       "    <tr>\n",
       "      <th>Young Adult</th>\n",
       "      <td>57.0%</td>\n",
       "      <td>318</td>\n",
       "      <td>$4.30</td>\n",
       "      <td>$3.06</td>\n",
       "    </tr>\n",
       "    <tr>\n",
       "      <th>Adult</th>\n",
       "      <td>22.0%</td>\n",
       "      <td>129</td>\n",
       "      <td>$3.96</td>\n",
       "      <td>$3.02</td>\n",
       "    </tr>\n",
       "    <tr>\n",
       "      <th>Minor</th>\n",
       "      <td>17.0%</td>\n",
       "      <td>105</td>\n",
       "      <td>$3.75</td>\n",
       "      <td>$2.98</td>\n",
       "    </tr>\n",
       "    <tr>\n",
       "      <th>Child</th>\n",
       "      <td>4.0%</td>\n",
       "      <td>24</td>\n",
       "      <td>$4.54</td>\n",
       "      <td>$3.40</td>\n",
       "    </tr>\n",
       "  </tbody>\n",
       "</table>\n",
       "</div>"
      ],
      "text/plain": [
       "            Percent by Group  Number of Purchases Avg Spent PP Avg Game Price\n",
       "Age Group                                                                    \n",
       "Young Adult            57.0%                  318        $4.30          $3.06\n",
       "Adult                  22.0%                  129        $3.96          $3.02\n",
       "Minor                  17.0%                  105        $3.75          $2.98\n",
       "Child                   4.0%                   24        $4.54          $3.40"
      ]
     },
     "execution_count": 19,
     "metadata": {},
     "output_type": "execute_result"
    }
   ],
   "source": [
    "#format the joined DF prior to printing\n",
    "age_joindf['Avg Spent PP']=age_joindf['Avg Spent PP'].map('${:.2f}'.format)\n",
    "age_joindf['Avg Game Price']=age_joindf['Avg Game Price'].map('${:.2f}'.format)\n",
    "\n",
    "#Display the summary data frame\n",
    "age_joindf"
   ]
  },
  {
   "cell_type": "markdown",
   "metadata": {},
   "source": [
    "## Top Spenders"
   ]
  },
  {
   "cell_type": "markdown",
   "metadata": {},
   "source": [
    "* Run basic calculations to obtain the results in the table below\n",
    "\n",
    "\n",
    "* Create a summary data frame to hold the results\n",
    "\n",
    "\n",
    "* Sort the total purchase value column in descending order\n",
    "\n",
    "\n",
    "* Optional: give the displayed data cleaner formatting\n",
    "\n",
    "\n",
    "* Display a preview of the summary data frame"
   ]
  },
  {
   "cell_type": "markdown",
   "metadata": {},
   "source": [
    "## Most Popular Items"
   ]
  },
  {
   "cell_type": "markdown",
   "metadata": {},
   "source": [
    "* Retrieve the Item ID, Item Name, and Item Price columns\n",
    "\n",
    "\n",
    "* Group by Item ID and Item Name. Perform calculations to obtain purchase count, average item price, and total purchase value\n",
    "\n",
    "\n",
    "* Create a summary data frame to hold the results\n",
    "\n",
    "\n",
    "* Sort the purchase count column in descending order\n",
    "\n",
    "\n",
    "* Optional: give the displayed data cleaner formatting\n",
    "\n",
    "\n",
    "* Display a preview of the summary data frame\n",
    "\n"
   ]
  },
  {
   "cell_type": "code",
   "execution_count": 20,
   "metadata": {},
   "outputs": [],
   "source": [
    "#create variaables for DF key:values of:\n",
    "    #Group by Item ID > Item Name > purchase count\n",
    "pop_purch_count = purchase_data.groupby(['Item ID', 'Item Name'])['Price'].count()\n",
    "\n",
    "    #Group by Item ID > Item Name > average item price\n",
    "pop_avg_price = round(purchase_data.groupby(['Item ID', 'Item Name'])['Price'].mean(),2)\n",
    "\n",
    "    #Group by Item ID > Item Name > \n",
    "pop_tot_purch = purchase_data.groupby(['Item ID', 'Item Name'])['Price'].sum()"
   ]
  },
  {
   "cell_type": "code",
   "execution_count": 21,
   "metadata": {},
   "outputs": [],
   "source": [
    "#Create a summary data frame to hold the previous key:values\n",
    "#Sort the purchase count column in descending order\n",
    "pop_sumdf = pd.DataFrame({'Purchase Count':pop_purch_count,\n",
    "                         'Avg Price':pop_avg_price,\n",
    "                         'Total Puchases':pop_tot_purch}).sort_values('Purchase Count', ascending=False)"
   ]
  },
  {
   "cell_type": "code",
   "execution_count": 22,
   "metadata": {},
   "outputs": [
    {
     "data": {
      "text/html": [
       "<div>\n",
       "<style scoped>\n",
       "    .dataframe tbody tr th:only-of-type {\n",
       "        vertical-align: middle;\n",
       "    }\n",
       "\n",
       "    .dataframe tbody tr th {\n",
       "        vertical-align: top;\n",
       "    }\n",
       "\n",
       "    .dataframe thead th {\n",
       "        text-align: right;\n",
       "    }\n",
       "</style>\n",
       "<table border=\"1\" class=\"dataframe\">\n",
       "  <thead>\n",
       "    <tr style=\"text-align: right;\">\n",
       "      <th></th>\n",
       "      <th></th>\n",
       "      <th>Purchase Count</th>\n",
       "      <th>Avg Price</th>\n",
       "      <th>Total Puchases</th>\n",
       "    </tr>\n",
       "    <tr>\n",
       "      <th>Item ID</th>\n",
       "      <th>Item Name</th>\n",
       "      <th></th>\n",
       "      <th></th>\n",
       "      <th></th>\n",
       "    </tr>\n",
       "  </thead>\n",
       "  <tbody>\n",
       "    <tr>\n",
       "      <th>92</th>\n",
       "      <th>Final Critic</th>\n",
       "      <td>13</td>\n",
       "      <td>$4.61</td>\n",
       "      <td>$59.99</td>\n",
       "    </tr>\n",
       "    <tr>\n",
       "      <th>178</th>\n",
       "      <th>Oathbreaker, Last Hope of the Breaking Storm</th>\n",
       "      <td>12</td>\n",
       "      <td>$4.23</td>\n",
       "      <td>$50.76</td>\n",
       "    </tr>\n",
       "    <tr>\n",
       "      <th>145</th>\n",
       "      <th>Fiery Glass Crusader</th>\n",
       "      <td>9</td>\n",
       "      <td>$4.58</td>\n",
       "      <td>$41.22</td>\n",
       "    </tr>\n",
       "    <tr>\n",
       "      <th>132</th>\n",
       "      <th>Persuasion</th>\n",
       "      <td>9</td>\n",
       "      <td>$3.22</td>\n",
       "      <td>$28.99</td>\n",
       "    </tr>\n",
       "    <tr>\n",
       "      <th>108</th>\n",
       "      <th>Extraction, Quickblade Of Trembling Hands</th>\n",
       "      <td>9</td>\n",
       "      <td>$3.53</td>\n",
       "      <td>$31.77</td>\n",
       "    </tr>\n",
       "    <tr>\n",
       "      <th>82</th>\n",
       "      <th>Nirvana</th>\n",
       "      <td>9</td>\n",
       "      <td>$4.90</td>\n",
       "      <td>$44.10</td>\n",
       "    </tr>\n",
       "    <tr>\n",
       "      <th>75</th>\n",
       "      <th>Brutality Ivory Warmace</th>\n",
       "      <td>8</td>\n",
       "      <td>$2.42</td>\n",
       "      <td>$19.36</td>\n",
       "    </tr>\n",
       "    <tr>\n",
       "      <th>103</th>\n",
       "      <th>Singed Scalpel</th>\n",
       "      <td>8</td>\n",
       "      <td>$4.35</td>\n",
       "      <td>$34.80</td>\n",
       "    </tr>\n",
       "    <tr>\n",
       "      <th>34</th>\n",
       "      <th>Retribution Axe</th>\n",
       "      <td>8</td>\n",
       "      <td>$2.22</td>\n",
       "      <td>$17.76</td>\n",
       "    </tr>\n",
       "    <tr>\n",
       "      <th>37</th>\n",
       "      <th>Shadow Strike, Glory of Ending Hope</th>\n",
       "      <td>8</td>\n",
       "      <td>$3.16</td>\n",
       "      <td>$25.28</td>\n",
       "    </tr>\n",
       "  </tbody>\n",
       "</table>\n",
       "</div>"
      ],
      "text/plain": [
       "                                                      Purchase Count  \\\n",
       "Item ID Item Name                                                      \n",
       "92      Final Critic                                              13   \n",
       "178     Oathbreaker, Last Hope of the Breaking Storm              12   \n",
       "145     Fiery Glass Crusader                                       9   \n",
       "132     Persuasion                                                 9   \n",
       "108     Extraction, Quickblade Of Trembling Hands                  9   \n",
       "82      Nirvana                                                    9   \n",
       "75      Brutality Ivory Warmace                                    8   \n",
       "103     Singed Scalpel                                             8   \n",
       "34      Retribution Axe                                            8   \n",
       "37      Shadow Strike, Glory of Ending Hope                        8   \n",
       "\n",
       "                                                     Avg Price Total Puchases  \n",
       "Item ID Item Name                                                              \n",
       "92      Final Critic                                     $4.61         $59.99  \n",
       "178     Oathbreaker, Last Hope of the Breaking Storm     $4.23         $50.76  \n",
       "145     Fiery Glass Crusader                             $4.58         $41.22  \n",
       "132     Persuasion                                       $3.22         $28.99  \n",
       "108     Extraction, Quickblade Of Trembling Hands        $3.53         $31.77  \n",
       "82      Nirvana                                          $4.90         $44.10  \n",
       "75      Brutality Ivory Warmace                          $2.42         $19.36  \n",
       "103     Singed Scalpel                                   $4.35         $34.80  \n",
       "34      Retribution Axe                                  $2.22         $17.76  \n",
       "37      Shadow Strike, Glory of Ending Hope              $3.16         $25.28  "
      ]
     },
     "execution_count": 22,
     "metadata": {},
     "output_type": "execute_result"
    }
   ],
   "source": [
    "#format the joined DF and display a preview of the summary data frame\n",
    "pop_sumdf['Avg Price'] = pop_sumdf['Avg Price'].map('${:.2f}'.format)\n",
    "pop_sumdf['Total Puchases'] = pop_sumdf['Total Puchases'].map('${:.2f}'.format)\n",
    "\n",
    "#Display a preview of the data frame\n",
    "pop_sumdf.head(10)"
   ]
  },
  {
   "cell_type": "markdown",
   "metadata": {},
   "source": [
    "## Most Profitable Items"
   ]
  },
  {
   "cell_type": "markdown",
   "metadata": {},
   "source": [
    "* Sort the above table by total purchase value in descending order\n",
    "\n",
    "\n",
    "* Optional: give the displayed data cleaner formatting\n",
    "\n",
    "\n",
    "* Display a preview of the data frame\n",
    "\n"
   ]
  },
  {
   "cell_type": "code",
   "execution_count": 122,
   "metadata": {
    "scrolled": true
   },
   "outputs": [
    {
     "data": {
      "text/html": [
       "<div>\n",
       "<style scoped>\n",
       "    .dataframe tbody tr th:only-of-type {\n",
       "        vertical-align: middle;\n",
       "    }\n",
       "\n",
       "    .dataframe tbody tr th {\n",
       "        vertical-align: top;\n",
       "    }\n",
       "\n",
       "    .dataframe thead th {\n",
       "        text-align: right;\n",
       "    }\n",
       "</style>\n",
       "<table border=\"1\" class=\"dataframe\">\n",
       "  <thead>\n",
       "    <tr style=\"text-align: right;\">\n",
       "      <th></th>\n",
       "      <th></th>\n",
       "      <th>Purchase Count</th>\n",
       "      <th>Avg Price</th>\n",
       "      <th>Total Puchases</th>\n",
       "    </tr>\n",
       "    <tr>\n",
       "      <th>Item ID</th>\n",
       "      <th>Item Name</th>\n",
       "      <th></th>\n",
       "      <th></th>\n",
       "      <th></th>\n",
       "    </tr>\n",
       "  </thead>\n",
       "  <tbody>\n",
       "    <tr>\n",
       "      <th>92</th>\n",
       "      <th>Final Critic</th>\n",
       "      <td>13</td>\n",
       "      <td>$4.61</td>\n",
       "      <td>$59.99</td>\n",
       "    </tr>\n",
       "    <tr>\n",
       "      <th>178</th>\n",
       "      <th>Oathbreaker, Last Hope of the Breaking Storm</th>\n",
       "      <td>12</td>\n",
       "      <td>$4.23</td>\n",
       "      <td>$50.76</td>\n",
       "    </tr>\n",
       "    <tr>\n",
       "      <th>145</th>\n",
       "      <th>Fiery Glass Crusader</th>\n",
       "      <td>9</td>\n",
       "      <td>$4.58</td>\n",
       "      <td>$41.22</td>\n",
       "    </tr>\n",
       "    <tr>\n",
       "      <th>132</th>\n",
       "      <th>Persuasion</th>\n",
       "      <td>9</td>\n",
       "      <td>$3.22</td>\n",
       "      <td>$28.99</td>\n",
       "    </tr>\n",
       "    <tr>\n",
       "      <th>108</th>\n",
       "      <th>Extraction, Quickblade Of Trembling Hands</th>\n",
       "      <td>9</td>\n",
       "      <td>$3.53</td>\n",
       "      <td>$31.77</td>\n",
       "    </tr>\n",
       "    <tr>\n",
       "      <th>82</th>\n",
       "      <th>Nirvana</th>\n",
       "      <td>9</td>\n",
       "      <td>$4.90</td>\n",
       "      <td>$44.10</td>\n",
       "    </tr>\n",
       "    <tr>\n",
       "      <th>75</th>\n",
       "      <th>Brutality Ivory Warmace</th>\n",
       "      <td>8</td>\n",
       "      <td>$2.42</td>\n",
       "      <td>$19.36</td>\n",
       "    </tr>\n",
       "    <tr>\n",
       "      <th>103</th>\n",
       "      <th>Singed Scalpel</th>\n",
       "      <td>8</td>\n",
       "      <td>$4.35</td>\n",
       "      <td>$34.80</td>\n",
       "    </tr>\n",
       "    <tr>\n",
       "      <th>34</th>\n",
       "      <th>Retribution Axe</th>\n",
       "      <td>8</td>\n",
       "      <td>$2.22</td>\n",
       "      <td>$17.76</td>\n",
       "    </tr>\n",
       "    <tr>\n",
       "      <th>37</th>\n",
       "      <th>Shadow Strike, Glory of Ending Hope</th>\n",
       "      <td>8</td>\n",
       "      <td>$3.16</td>\n",
       "      <td>$25.28</td>\n",
       "    </tr>\n",
       "  </tbody>\n",
       "</table>\n",
       "</div>"
      ],
      "text/plain": [
       "                                                      Purchase Count  \\\n",
       "Item ID Item Name                                                      \n",
       "92      Final Critic                                              13   \n",
       "178     Oathbreaker, Last Hope of the Breaking Storm              12   \n",
       "145     Fiery Glass Crusader                                       9   \n",
       "132     Persuasion                                                 9   \n",
       "108     Extraction, Quickblade Of Trembling Hands                  9   \n",
       "82      Nirvana                                                    9   \n",
       "75      Brutality Ivory Warmace                                    8   \n",
       "103     Singed Scalpel                                             8   \n",
       "34      Retribution Axe                                            8   \n",
       "37      Shadow Strike, Glory of Ending Hope                        8   \n",
       "\n",
       "                                                     Avg Price Total Puchases  \n",
       "Item ID Item Name                                                              \n",
       "92      Final Critic                                     $4.61         $59.99  \n",
       "178     Oathbreaker, Last Hope of the Breaking Storm     $4.23         $50.76  \n",
       "145     Fiery Glass Crusader                             $4.58         $41.22  \n",
       "132     Persuasion                                       $3.22         $28.99  \n",
       "108     Extraction, Quickblade Of Trembling Hands        $3.53         $31.77  \n",
       "82      Nirvana                                          $4.90         $44.10  \n",
       "75      Brutality Ivory Warmace                          $2.42         $19.36  \n",
       "103     Singed Scalpel                                   $4.35         $34.80  \n",
       "34      Retribution Axe                                  $2.22         $17.76  \n",
       "37      Shadow Strike, Glory of Ending Hope              $3.16         $25.28  "
      ]
     },
     "execution_count": 122,
     "metadata": {},
     "output_type": "execute_result"
    }
   ],
   "source": [
    "#Sort the above table by total purchase value in descending order\n",
    "    #formatting completed in prior step\n",
    "pop_sumdf['Total Puchases'].sort_values(ascending=False)\n",
    "\n",
    "#Display a preview of the data frame\n",
    "pop_sumdf.head(10)"
   ]
  },
  {
   "cell_type": "markdown",
   "metadata": {},
   "source": [
    "## Top Spenders"
   ]
  },
  {
   "cell_type": "markdown",
   "metadata": {},
   "source": [
    "* Run basic calculations to obtain the results in the table below\n",
    "\n",
    "\n",
    "* Create a summary data frame to hold the results\n",
    "\n",
    "\n",
    "* Sort the total purchase value column in descending order\n",
    "\n",
    "\n",
    "* Optional: give the displayed data cleaner formatting\n",
    "\n",
    "\n",
    "* Display a preview of the summary data frame"
   ]
  },
  {
   "cell_type": "code",
   "execution_count": 148,
   "metadata": {},
   "outputs": [
    {
     "data": {
      "text/html": [
       "<div>\n",
       "<style scoped>\n",
       "    .dataframe tbody tr th:only-of-type {\n",
       "        vertical-align: middle;\n",
       "    }\n",
       "\n",
       "    .dataframe tbody tr th {\n",
       "        vertical-align: top;\n",
       "    }\n",
       "\n",
       "    .dataframe thead th {\n",
       "        text-align: right;\n",
       "    }\n",
       "</style>\n",
       "<table border=\"1\" class=\"dataframe\">\n",
       "  <thead>\n",
       "    <tr style=\"text-align: right;\">\n",
       "      <th></th>\n",
       "      <th></th>\n",
       "      <th></th>\n",
       "      <th>Total Purchases</th>\n",
       "      <th>Total Value</th>\n",
       "    </tr>\n",
       "    <tr>\n",
       "      <th>Item Name</th>\n",
       "      <th>Gender</th>\n",
       "      <th>Age Group</th>\n",
       "      <th></th>\n",
       "      <th></th>\n",
       "    </tr>\n",
       "  </thead>\n",
       "  <tbody>\n",
       "    <tr>\n",
       "      <th>Persuasion</th>\n",
       "      <th>Male</th>\n",
       "      <th>Young Adult</th>\n",
       "      <td>7</td>\n",
       "      <td>22.47</td>\n",
       "    </tr>\n",
       "    <tr>\n",
       "      <th>Final Critic</th>\n",
       "      <th>Male</th>\n",
       "      <th>Young Adult</th>\n",
       "      <td>6</td>\n",
       "      <td>27.90</td>\n",
       "    </tr>\n",
       "    <tr>\n",
       "      <th>Eternal Cleaver</th>\n",
       "      <th>Male</th>\n",
       "      <th>Young Adult</th>\n",
       "      <td>6</td>\n",
       "      <td>15.00</td>\n",
       "    </tr>\n",
       "    <tr>\n",
       "      <th>Pursuit, Cudgel of Necromancy</th>\n",
       "      <th>Male</th>\n",
       "      <th>Young Adult</th>\n",
       "      <td>6</td>\n",
       "      <td>6.12</td>\n",
       "    </tr>\n",
       "    <tr>\n",
       "      <th>Lightning, Etcher of the King</th>\n",
       "      <th>Male</th>\n",
       "      <th>Young Adult</th>\n",
       "      <td>6</td>\n",
       "      <td>25.38</td>\n",
       "    </tr>\n",
       "    <tr>\n",
       "      <th>Fiery Glass Crusader</th>\n",
       "      <th>Male</th>\n",
       "      <th>Young Adult</th>\n",
       "      <td>5</td>\n",
       "      <td>22.90</td>\n",
       "    </tr>\n",
       "    <tr>\n",
       "      <th>Malificent Bag</th>\n",
       "      <th>Male</th>\n",
       "      <th>Young Adult</th>\n",
       "      <td>5</td>\n",
       "      <td>8.75</td>\n",
       "    </tr>\n",
       "    <tr>\n",
       "      <th>Wolf</th>\n",
       "      <th>Male</th>\n",
       "      <th>Young Adult</th>\n",
       "      <td>5</td>\n",
       "      <td>17.70</td>\n",
       "    </tr>\n",
       "    <tr>\n",
       "      <th>Retribution Axe</th>\n",
       "      <th>Male</th>\n",
       "      <th>Young Adult</th>\n",
       "      <td>5</td>\n",
       "      <td>11.10</td>\n",
       "    </tr>\n",
       "    <tr>\n",
       "      <th>Abyssal Shard</th>\n",
       "      <th>Male</th>\n",
       "      <th>Young Adult</th>\n",
       "      <td>5</td>\n",
       "      <td>13.35</td>\n",
       "    </tr>\n",
       "  </tbody>\n",
       "</table>\n",
       "</div>"
      ],
      "text/plain": [
       "                                                  Total Purchases  Total Value\n",
       "Item Name                     Gender Age Group                                \n",
       "Persuasion                    Male   Young Adult                7        22.47\n",
       "Final Critic                  Male   Young Adult                6        27.90\n",
       "Eternal Cleaver               Male   Young Adult                6        15.00\n",
       "Pursuit, Cudgel of Necromancy Male   Young Adult                6         6.12\n",
       "Lightning, Etcher of the King Male   Young Adult                6        25.38\n",
       "Fiery Glass Crusader          Male   Young Adult                5        22.90\n",
       "Malificent Bag                Male   Young Adult                5         8.75\n",
       "Wolf                          Male   Young Adult                5        17.70\n",
       "Retribution Axe               Male   Young Adult                5        11.10\n",
       "Abyssal Shard                 Male   Young Adult                5        13.35"
      ]
     },
     "execution_count": 148,
     "metadata": {},
     "output_type": "execute_result"
    }
   ],
   "source": [
    "#create variaables for DF key:values of:\n",
    "    #Group by Item ID > Item Name > purchase count\n",
    "top_purch_count = purchase_data.groupby(['Item Name','Gender','Age Group'])['Item Name'].count().sort_values(ascending=False)\n",
    "\n",
    "    #Group by Item ID > Item Name > average item price\n",
    "top_val = round(purchase_data.groupby(['Item Name','Gender','Age Group'])['Price'].sum(),2)\n",
    "\n",
    "    #Group by Item ID > Item Name > \n",
    "top_tot_purch = purchase_data.groupby(['Item ID', 'Item Name'])['Price'].sum()\n",
    "\n",
    "top_df=pd.DataFrame({'Total Purchases':top_purch_count,'Total Value':top_val}).sort_values('Total Purchases',ascending=False)\n",
    "top_df.head(10)"
   ]
  },
  {
   "cell_type": "code",
   "execution_count": null,
   "metadata": {},
   "outputs": [],
   "source": []
  }
 ],
 "metadata": {
  "anaconda-cloud": {},
  "kernel_info": {
   "name": "python3"
  },
  "kernelspec": {
   "display_name": "Python 3",
   "language": "python",
   "name": "python3"
  },
  "language_info": {
   "codemirror_mode": {
    "name": "ipython",
    "version": 3
   },
   "file_extension": ".py",
   "mimetype": "text/x-python",
   "name": "python",
   "nbconvert_exporter": "python",
   "pygments_lexer": "ipython3",
   "version": "3.8.3"
  },
  "latex_envs": {
   "LaTeX_envs_menu_present": true,
   "autoclose": false,
   "autocomplete": true,
   "bibliofile": "biblio.bib",
   "cite_by": "apalike",
   "current_citInitial": 1,
   "eqLabelWithNumbers": true,
   "eqNumInitial": 1,
   "hotkeys": {
    "equation": "Ctrl-E",
    "itemize": "Ctrl-I"
   },
   "labels_anchors": false,
   "latex_user_defs": false,
   "report_style_numbering": false,
   "user_envs_cfg": false
  },
  "nteract": {
   "version": "0.2.0"
  }
 },
 "nbformat": 4,
 "nbformat_minor": 4
}
